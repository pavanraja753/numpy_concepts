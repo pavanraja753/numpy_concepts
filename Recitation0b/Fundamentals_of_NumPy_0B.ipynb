{
 "cells": [
  {
   "cell_type": "markdown",
   "metadata": {},
   "source": [
    "# Recitation 0B - Fundamentals of NumPy\n",
    "## Table of Contents\n",
    "1. What is NumPy?\n",
    "2. Installation\n",
    "3. Initialization\n",
    "4. Accessing\n",
    "5. Modifying data\n",
    "6. Pivoting data\n",
    "7. Combining data\n",
    "8. Math operations"
   ]
  },
  {
   "cell_type": "markdown",
   "metadata": {},
   "source": [
    "## 1. What is NumPy?"
   ]
  },
  {
   "cell_type": "markdown",
   "metadata": {},
   "source": [
    "NumPy is the fundamental package for scientific computing in Python. \n",
    "It is a Python library that provides and an assortment of operations for fast operations on arrays - from mathematical, logical operations to basic linear algebra, random simulation and much more."
   ]
  },
  {
   "cell_type": "markdown",
   "metadata": {},
   "source": [
    "## 2. Installation\n",
    "Generally NumPy is pre-installed on CoLab/AWS. You should first check if NumPy is available and its version.\n",
    "\n",
    "To manually install Numpy, please follow the instructions below."
   ]
  },
  {
   "cell_type": "code",
   "execution_count": 1,
   "metadata": {},
   "outputs": [
    {
     "name": "stdout",
     "output_type": "stream",
     "text": [
      "Name: numpy\n",
      "Version: 1.17.4\n",
      "Summary: NumPy is the fundamental package for array computing with Python.\n",
      "Home-page: https://www.numpy.org\n",
      "Author: Travis E. Oliphant et al.\n",
      "Author-email: None\n",
      "License: BSD\n",
      "Location: /usr/lib/python3/dist-packages\n",
      "Requires: \n",
      "Required-by: \n",
      "Requirement already satisfied: numpy in /usr/lib/python3/dist-packages (1.17.4)\n"
     ]
    }
   ],
   "source": [
    "# Check the installation of NumPy\n",
    "!pip show numpy\n",
    "\n",
    "# Install NumPy\n",
    "!pip install numpy\n",
    "\n",
    "# Import NumPy \n",
    "import numpy as np"
   ]
  },
  {
   "cell_type": "markdown",
   "metadata": {},
   "source": [
    "## 3. Initialization"
   ]
  },
  {
   "cell_type": "markdown",
   "metadata": {},
   "source": [
    "### a. Intrinsic NumPy array creation functions\n"
   ]
  },
  {
   "cell_type": "markdown",
   "metadata": {},
   "source": [
    "#### 1D array creation functions"
   ]
  },
  {
   "cell_type": "code",
   "execution_count": null,
   "metadata": {},
   "outputs": [],
   "source": [
    "# return evenly spaced values within a given interval\n",
    "range_arr = np.arange(10)\n",
    "print(\"An array given range is \\n\", range_arr, \" with dimensions \", range_arr.shape, \"\\n\")\n",
    "\n",
    "# return evenly spaced numbers over a specified interval\n",
    "linspace_arr = np.linspace(2.0, 3.0, num=5, endpoint=False)\n",
    "print(\"An evenly spaced array given range is \\n\", linspace_arr, \" with dimensions \", linspace_arr.shape, \"\\n\")"
   ]
  },
  {
   "cell_type": "code",
   "execution_count": 3,
   "metadata": {},
   "outputs": [
    {
     "name": "stdout",
     "output_type": "stream",
     "text": [
      "An array given range is \n",
      " [0 1 2 3 4 5 6 7 8 9] with dimensions  (10,) \n",
      "\n",
      "An evenly spaced array given range is \n",
      " [2.  2.2 2.4 2.6 2.8]  with dimensions  (5,) \n",
      "\n",
      "An evenly spaced array given range is \n",
      " [2.   2.25 2.5  2.75 3.  ]  with dimensions  (5,) \n",
      "\n"
     ]
    }
   ],
   "source": [
    "range_arr = np.arange(10)\n",
    "print(\"An array given range is \\n\", range_arr, \"with dimensions \", range_arr.shape,\"\\n\")\n",
    "\n",
    "# return evenly spaces over a given interval\n",
    "linspace_arr = np.linspace(2.0,3.0,num=5, endpoint=False)\n",
    "print(\"An evenly spaced array given range is \\n\", linspace_arr, \" with dimensions \", linspace_arr.shape, \"\\n\")\n",
    "\n",
    "\n",
    "linspace_arr = np.linspace(2.0,3.0,num=5, endpoint=True)\n",
    "print(\"An evenly spaced array given range is \\n\", linspace_arr, \" with dimensions \", linspace_arr.shape, \"\\n\")"
   ]
  },
  {
   "cell_type": "markdown",
   "metadata": {},
   "source": [
    "#### General ndarray creation functions"
   ]
  },
  {
   "cell_type": "code",
   "execution_count": null,
   "metadata": {},
   "outputs": [],
   "source": [
    "# initialize an empty array with size 2 x 2\n",
    "empty_arr = np.empty((2, 2))\n",
    "print(\"An empty array is \\n\", empty_arr, \" with dimensions \", empty_arr.shape, \"\\n\")\n",
    "\n",
    "# initialize an all zero array with size 2 x 3\n",
    "zeros_arr = np.zeros((2, 3))\n",
    "print(\"A zeros array is \\n\", zeros_arr, \" with dimensions \", zeros_arr.shape, \"\\n\")\n",
    "\n",
    "# initialize an all one array with size 4 x 2\n",
    "ones_arr = np.ones((4, 2))\n",
    "print(\"A ones array is \\n\", ones_arr, \" with dimensions \", ones_arr.shape, \"\\n\")"
   ]
  },
  {
   "cell_type": "code",
   "execution_count": 4,
   "metadata": {},
   "outputs": [
    {
     "name": "stdout",
     "output_type": "stream",
     "text": [
      "An empty array is \n",
      " [[1.59209690e-316 0.00000000e+000]\n",
      " [1.58101007e-322 6.90012435e-310]] with dimensions  (2, 2) \n",
      "\n",
      "A zeros array is \n",
      " [[0. 0. 0.]\n",
      " [0. 0. 0.]]  with dimensions  (2, 3) \n",
      "\n",
      "A ones array is \n",
      " [[1. 1.]\n",
      " [1. 1.]\n",
      " [1. 1.]\n",
      " [1. 1.]]  with dimensions  (4, 2) \n",
      "\n"
     ]
    }
   ],
   "source": [
    "empty_arr = np.empty((2,2))\n",
    "print(\"An empty array is \\n\", empty_arr, \"with dimensions \", empty_arr.shape, \"\\n\")\n",
    "\n",
    "zeros_arr = np.zeros((2,3))\n",
    "print(\"A zeros array is \\n\", zeros_arr, \" with dimensions \", zeros_arr.shape, \"\\n\")\n",
    "\n",
    "ones_arr = np.ones((4,2))\n",
    "print(\"A ones array is \\n\", ones_arr, \" with dimensions \", ones_arr.shape, \"\\n\")"
   ]
  },
  {
   "cell_type": "code",
   "execution_count": 5,
   "metadata": {},
   "outputs": [],
   "source": [
    "zeros_like_arr = np.zeros_like(ones_arr)\n",
    "\n",
    "ones_like_arr = np.ones_like(zeros_arr)"
   ]
  },
  {
   "cell_type": "code",
   "execution_count": 6,
   "metadata": {},
   "outputs": [
    {
     "name": "stdout",
     "output_type": "stream",
     "text": [
      "A zero like array is \n",
      " [[0. 0.]\n",
      " [0. 0.]\n",
      " [0. 0.]\n",
      " [0. 0.]]  with dimensions  (4, 2) \n",
      "\n",
      "A ones like array is \n",
      " [[1. 1. 1.]\n",
      " [1. 1. 1.]]  with dimensions  (2, 3) \n",
      "\n"
     ]
    }
   ],
   "source": [
    "# return an array of zeros with the same shape and type as a given array\n",
    "zeros_like_arr = np.zeros_like(ones_arr)\n",
    "print(\"A zero like array is \\n\", zeros_like_arr, \" with dimensions \", zeros_like_arr.shape, \"\\n\")\n",
    "\n",
    "# return an array of ones with the same shape and type as a given array\n",
    "ones_like_arr = np.ones_like(zeros_arr)\n",
    "print(\"A ones like array is \\n\", ones_like_arr, \" with dimensions \", ones_like_arr.shape, \"\\n\")"
   ]
  },
  {
   "cell_type": "code",
   "execution_count": 7,
   "metadata": {},
   "outputs": [],
   "source": [
    "tens_arr = np.full((2,2),10)\n",
    "full_like_arr = np.full_like(zeros_arr,0.1,dtype=np.double)"
   ]
  },
  {
   "cell_type": "code",
   "execution_count": 8,
   "metadata": {},
   "outputs": [
    {
     "name": "stdout",
     "output_type": "stream",
     "text": [
      "A filled array is \n",
      " [[10 10]\n",
      " [10 10]]  with dimensions  (2, 2) \n",
      "\n",
      "A full like array is \n",
      " [[0.1 0.1 0.1]\n",
      " [0.1 0.1 0.1]]  with dimensions  (2, 3) \n",
      "\n"
     ]
    }
   ],
   "source": [
    "# return a new array of given shape and type, filled with fill_value\n",
    "tens_arr = np.full((2,2), 10)\n",
    "print(\"A filled array is \\n\", tens_arr, \" with dimensions \", tens_arr.shape, \"\\n\")\n",
    "\n",
    "# Return a full array with the same shape and type as a given array.\n",
    "full_like_arr = np.full_like(zeros_arr, 0.1, dtype=np.double)\n",
    "print(\"A full like array is \\n\", full_like_arr, \" with dimensions \", full_like_arr.shape, \"\\n\")"
   ]
  },
  {
   "cell_type": "markdown",
   "metadata": {},
   "source": [
    "### b. Create an array from existing data"
   ]
  },
  {
   "cell_type": "markdown",
   "metadata": {},
   "source": [
    "#### Conversion from other Python structures (i.e. lists and tuples)"
   ]
  },
  {
   "cell_type": "code",
   "execution_count": 9,
   "metadata": {},
   "outputs": [],
   "source": [
    "new_list = [1,2,3,4]\n",
    "arr_from_list = np.array(new_list)"
   ]
  },
  {
   "cell_type": "code",
   "execution_count": 10,
   "metadata": {},
   "outputs": [
    {
     "name": "stdout",
     "output_type": "stream",
     "text": [
      "An array from given list is \n",
      " [1 2 3 4]  with dimensions  (4,) \n",
      "\n"
     ]
    }
   ],
   "source": [
    "# initialize an array with the given list\n",
    "new_list = [1, 2, 3, 4]\n",
    "arr_from_list = np.array(new_list)\n",
    "print(\"An array from given list is \\n\", arr_from_list, \" with dimensions \", arr_from_list.shape, \"\\n\")"
   ]
  },
  {
   "cell_type": "markdown",
   "metadata": {},
   "source": [
    "#### Reading arrays from disk"
   ]
  },
  {
   "cell_type": "code",
   "execution_count": null,
   "metadata": {},
   "outputs": [],
   "source": [
    "# initialize an array by loading data from a txt file\n",
    "#txt_arr = np.loadtxt(path_to_txt_file)\n",
    "\n",
    "# initialize an array by loading data from a npy file\n",
    "#loaded_arr = np.load(path_to_npy_file)"
   ]
  },
  {
   "cell_type": "markdown",
   "metadata": {},
   "source": [
    "### c. Use of special library functions (e.g., random)"
   ]
  },
  {
   "cell_type": "code",
   "execution_count": 15,
   "metadata": {},
   "outputs": [
    {
     "name": "stdout",
     "output_type": "stream",
     "text": [
      "Random integer array [[7 9 3 5]] of shape  (1, 4)\n",
      "Random integer array with seed [[5 0 3 3]] of shape  (1, 4)\n"
     ]
    }
   ],
   "source": [
    "a = np.random.randint(0,10,size=(1,4))\n",
    "print(\"Random integer array\", a, \"of shape \", a.shape)\n",
    "\n",
    "np.random.seed(0)\n",
    "a = np.random.randint(0,10,size=(1,4))\n",
    "print(\"Random integer array with seed\", a, \"of shape \", a.shape)"
   ]
  },
  {
   "cell_type": "code",
   "execution_count": null,
   "metadata": {},
   "outputs": [],
   "source": [
    "a = np.random.randint(0, 10, size = (1,4))\n",
    "print(\"Random integer array\", a, \"of shape \", a.shape)\n",
    "\n",
    "np.random.seed(0)\n",
    "a = np.random.randint(0, 10, size = (1,4))\n",
    "print(\"Random integer array with seed\", a, \"of shape \", a.shape)"
   ]
  },
  {
   "cell_type": "code",
   "execution_count": 17,
   "metadata": {},
   "outputs": [
    {
     "name": "stdout",
     "output_type": "stream",
     "text": [
      "A random array from a uniform distribution is \n",
      " [[0.95715516 0.14035078]\n",
      " [0.87008726 0.47360805]\n",
      " [0.80091075 0.52047748]]  with dimensions  (3, 2) \n",
      "\n",
      "A random array from a gaussian distribution is \n",
      " [[ 5.92068284  5.36796487  5.71371759  8.95556112]\n",
      " [ 1.98494066  3.66611335 -0.38928431  2.71474367]]\n",
      "with mu:  3\n",
      "with sigma:  2.5\n",
      "with dimensions  (2, 4)\n"
     ]
    }
   ],
   "source": [
    "# create an array of the given shape and populate it with random samples from a uniform distribution over [0, 1)\n",
    "uniform_rand_arr = np.random.rand(3,2)\n",
    "print(\"A random array from a uniform distribution is \\n\", uniform_rand_arr, \" with dimensions \", uniform_rand_arr.shape, \"\\n\")\n",
    "\n",
    "# For random samples from N(\\mu, \\sigma^2), use:\n",
    "# sigma * np.random.randn(...) + mu\n",
    "mu = 3\n",
    "sigma =2.5\n",
    "sample_normal_arr = mu + sigma * np.random.randn(2, 4)\n",
    "print(\"A random array from a gaussian distribution is \\n\", sample_normal_arr)\n",
    "print(\"with mu: \", mu)\n",
    "print(\"with sigma: \", sigma)\n",
    "print(\"with dimensions \", sample_normal_arr.shape)"
   ]
  },
  {
   "cell_type": "markdown",
   "metadata": {},
   "source": [
    "## 4. Accessing data"
   ]
  },
  {
   "cell_type": "markdown",
   "metadata": {},
   "source": [
    "### a. Indexing: Accessing values from Numpy Arrays"
   ]
  },
  {
   "cell_type": "code",
   "execution_count": 20,
   "metadata": {},
   "outputs": [
    {
     "data": {
      "text/plain": [
       "0.7521345209879338"
      ]
     },
     "execution_count": 20,
     "metadata": {},
     "output_type": "execute_result"
    }
   ],
   "source": [
    "n = np.random.rand(4,5,6) # see this as 4 batches, each containing 5 rows and 6 columns\n",
    "\n",
    "n[1,2,3]"
   ]
  },
  {
   "cell_type": "code",
   "execution_count": 21,
   "metadata": {},
   "outputs": [
    {
     "data": {
      "text/plain": [
       "0.42783437883147235"
      ]
     },
     "execution_count": 21,
     "metadata": {},
     "output_type": "execute_result"
    }
   ],
   "source": [
    "n = np.random.rand(4, 5, 6) # see this as 4 batches, each containing 5 rows and 6 columns\n",
    "n\n",
    "\n",
    "n[1, 2, 3] # returns the element located in the fourth column of third row of the second batch."
   ]
  },
  {
   "cell_type": "markdown",
   "metadata": {},
   "source": [
    "### b. Slicing: Accessing subsections of Numpy Arrays based on Indices"
   ]
  },
  {
   "cell_type": "code",
   "execution_count": 22,
   "metadata": {},
   "outputs": [
    {
     "name": "stdout",
     "output_type": "stream",
     "text": [
      "[[0.44737829 0.72769634 0.74223798 0.30698606 0.11977135 0.44387868]\n",
      " [0.39177432 0.53184918 0.84535768 0.53627454 0.68027015 0.60917758]\n",
      " [0.098478   0.09202759 0.05596583 0.08653249 0.23717329 0.83951297]\n",
      " [0.52237053 0.51307486 0.64983197 0.54459088 0.0324653  0.58015172]\n",
      " [0.77108905 0.37622657 0.49102474 0.98163968 0.24465141 0.3743232 ]]\n",
      "[[0.44737829 0.72769634 0.74223798 0.30698606]\n",
      " [0.39177432 0.53184918 0.84535768 0.53627454]\n",
      " [0.098478   0.09202759 0.05596583 0.08653249]]\n",
      "[0.0324653  0.73868266 0.51964283 0.62563662]\n"
     ]
    }
   ],
   "source": [
    "print(n[0,:,:])\n",
    "\n",
    "print(n[0,0:3,0:4])\n",
    "\n",
    "print(n[:,3,4])"
   ]
  },
  {
   "cell_type": "code",
   "execution_count": 23,
   "metadata": {},
   "outputs": [
    {
     "name": "stdout",
     "output_type": "stream",
     "text": [
      "[[0.44737829 0.72769634 0.74223798 0.30698606 0.11977135 0.44387868]\n",
      " [0.39177432 0.53184918 0.84535768 0.53627454 0.68027015 0.60917758]\n",
      " [0.098478   0.09202759 0.05596583 0.08653249 0.23717329 0.83951297]\n",
      " [0.52237053 0.51307486 0.64983197 0.54459088 0.0324653  0.58015172]\n",
      " [0.77108905 0.37622657 0.49102474 0.98163968 0.24465141 0.3743232 ]]\n",
      "[[0.44737829 0.72769634 0.74223798 0.30698606]\n",
      " [0.39177432 0.53184918 0.84535768 0.53627454]\n",
      " [0.098478   0.09202759 0.05596583 0.08653249]]\n",
      "[0.0324653  0.73868266 0.51964283 0.62563662]\n"
     ]
    }
   ],
   "source": [
    "# slice along a batch\n",
    "print(n[0, :, :]) # same as: n[0]\n",
    "\n",
    "print(n[0, 0:3, 0:4])\n",
    "\n",
    "# slice along multiple batches\n",
    "print(n[:, 3, 4]) # returns the elements in the 4th row and 5th column across all batches"
   ]
  },
  {
   "cell_type": "code",
   "execution_count": 25,
   "metadata": {},
   "outputs": [
    {
     "name": "stdout",
     "output_type": "stream",
     "text": [
      "[[[0.44737829 0.72769634 0.74223798 0.30698606 0.11977135 0.44387868]\n",
      "  [0.39177432 0.53184918 0.84535768 0.53627454 0.68027015 0.60917758]\n",
      "  [0.098478   0.09202759 0.05596583 0.08653249 0.23717329 0.83951297]\n",
      "  [0.52237053 0.51307486 0.64983197 0.54459088 0.0324653  0.58015172]\n",
      "  [0.77108905 0.37622657 0.49102474 0.98163968 0.24465141 0.3743232 ]]\n",
      "\n",
      " [[0.24154569 0.22826361 0.48950933 0.89152268 0.35810748 0.38523742]\n",
      "  [0.91672702 0.11381664 0.63112554 0.132815   0.37424458 0.32440486]\n",
      "  [0.68011554 0.79553475 0.50393361 0.29624239 0.88596227 0.35187056]\n",
      "  [0.73839034 0.55536126 0.20151771 0.5485191  0.51964283 0.34878266]\n",
      "  [0.02461996 0.1488293  0.13185204 0.70791746 0.70907211 0.61174841]]]\n",
      "[[[0.53184918 0.53627454 0.60917758]\n",
      "  [0.09202759 0.08653249 0.83951297]\n",
      "  [0.51307486 0.54459088 0.58015172]]\n",
      "\n",
      " [[0.11381664 0.132815   0.32440486]\n",
      "  [0.79553475 0.29624239 0.35187056]\n",
      "  [0.55536126 0.5485191  0.34878266]]]\n"
     ]
    }
   ],
   "source": [
    "print(n[0::2])\n",
    "print(n[0::2, 1:4, 1::2])"
   ]
  },
  {
   "cell_type": "code",
   "execution_count": 26,
   "metadata": {},
   "outputs": [
    {
     "name": "stdout",
     "output_type": "stream",
     "text": [
      "[[[0.44737829 0.72769634 0.74223798 0.30698606 0.11977135 0.44387868]\n",
      "  [0.39177432 0.53184918 0.84535768 0.53627454 0.68027015 0.60917758]\n",
      "  [0.098478   0.09202759 0.05596583 0.08653249 0.23717329 0.83951297]\n",
      "  [0.52237053 0.51307486 0.64983197 0.54459088 0.0324653  0.58015172]\n",
      "  [0.77108905 0.37622657 0.49102474 0.98163968 0.24465141 0.3743232 ]]\n",
      "\n",
      " [[0.24154569 0.22826361 0.48950933 0.89152268 0.35810748 0.38523742]\n",
      "  [0.91672702 0.11381664 0.63112554 0.132815   0.37424458 0.32440486]\n",
      "  [0.68011554 0.79553475 0.50393361 0.29624239 0.88596227 0.35187056]\n",
      "  [0.73839034 0.55536126 0.20151771 0.5485191  0.51964283 0.34878266]\n",
      "  [0.02461996 0.1488293  0.13185204 0.70791746 0.70907211 0.61174841]]]\n",
      "[[[0.53184918 0.53627454 0.60917758]\n",
      "  [0.09202759 0.08653249 0.83951297]\n",
      "  [0.51307486 0.54459088 0.58015172]]\n",
      "\n",
      " [[0.11381664 0.132815   0.32440486]\n",
      "  [0.79553475 0.29624239 0.35187056]\n",
      "  [0.55536126 0.5485191  0.34878266]]]\n"
     ]
    }
   ],
   "source": [
    "#syntax for slicing at interval is start:stop:step_size \n",
    "\n",
    "print(n[0::2]) # slices from index 0 to the end of the dimension at intervals of 2\n",
    "\n",
    "print(n[0::2, 1:4, 1::2]) # rows (2-5) and columns at an interval of 2, starting from 1"
   ]
  },
  {
   "cell_type": "markdown",
   "metadata": {},
   "source": [
    "## 5. Modifying data"
   ]
  },
  {
   "cell_type": "markdown",
   "metadata": {},
   "source": [
    "### Modify single values"
   ]
  },
  {
   "cell_type": "code",
   "execution_count": 28,
   "metadata": {},
   "outputs": [
    {
     "name": "stdout",
     "output_type": "stream",
     "text": [
      "True\n",
      "False\n"
     ]
    }
   ],
   "source": [
    "n_copy = np.copy(n)\n",
    "print(n_copy[2,4,1] == n[2,4,1])\n",
    "\n",
    "n_copy[2,4,1] = 0.005\n",
    "\n",
    "# check if values in the two arrays are the same after copy\n",
    "print(n_copy[2, 4, 1] == n[2, 4, 1])\n"
   ]
  },
  {
   "cell_type": "code",
   "execution_count": 29,
   "metadata": {},
   "outputs": [
    {
     "name": "stdout",
     "output_type": "stream",
     "text": [
      "True\n",
      "True\n"
     ]
    }
   ],
   "source": [
    "n_copy = n\n",
    "print(n_copy[2,4,1] == n[2,4,1])\n",
    "\n",
    "n_copy[2,4,1] = 0.005\n",
    "\n",
    "# check if values in the two arrays are the same after copy\n",
    "print(n_copy[2, 4, 1] == n[2, 4, 1])"
   ]
  },
  {
   "cell_type": "code",
   "execution_count": 30,
   "metadata": {},
   "outputs": [
    {
     "name": "stdout",
     "output_type": "stream",
     "text": [
      "True\n",
      "True\n"
     ]
    }
   ],
   "source": [
    "#When you assign an array or its elements to a new variable, \n",
    "#you have to explicitly numpy.copy the array, otherwise the variable is a view into the original array.\n",
    "\n",
    "n_copy = np.copy(n)\n",
    "\n",
    "# check if values in the two arrays are the same before copy\n",
    "print(n_copy[2, 4, 1] == n[2, 4, 1])\n",
    "\n",
    "n_copy[2, 4, 1] = 0.005\n",
    "\n",
    "# check if values in the two arrays are the same after copy\n",
    "print(n_copy[2, 4, 1] == n[2, 4, 1])"
   ]
  },
  {
   "cell_type": "markdown",
   "metadata": {},
   "source": [
    "### Modifying multiple values"
   ]
  },
  {
   "cell_type": "code",
   "execution_count": 31,
   "metadata": {},
   "outputs": [
    {
     "name": "stdout",
     "output_type": "stream",
     "text": [
      "Are the arrays the same before modification: [ True  True  True  True  True  True]\n",
      "Before modifying values: [0.73839034 0.55536126 0.20151771 0.5485191  0.51964283 0.34878266]\n",
      "After modifying values: [0.5 0.5 0.5 0.5 0.5 0.5]\n",
      "Are the arrays the same after modification: [False False False False False False]\n"
     ]
    }
   ],
   "source": [
    "# check if values in the two arrays are the same before copy\n",
    "print(f\"Are the arrays the same before modification: {n_copy[2, 3] == n[2, 3]}\")\n",
    "print(f\"Before modifying values: {n_copy[2, 3]}\")\n",
    "\n",
    "n_copy[2, 3] = 0.5\n",
    "\n",
    "print(f\"After modifying values: {n_copy[2, 3]}\")\n",
    "\n",
    "# check if values in the two arrays are the same after copy\n",
    "print(f\"Are the arrays the same after modification: {n_copy[2, 3] == n[2, 3]}\")"
   ]
  },
  {
   "cell_type": "markdown",
   "metadata": {},
   "source": [
    "## 6.Pivoting data"
   ]
  },
  {
   "cell_type": "markdown",
   "metadata": {},
   "source": [
    "### a. Reshaping Arrays\n",
    "Array reshaping is an operation that changes the shape of an array whilst maintaining the same data in the array. \n",
    "\n",
    "For instance, reshaping from (3, 4, 5) -> (2, 5, 6) or from (3, 4, 5) -> (6, 10). A reshape operation is valid, so long as the product of the new shape specified matches the product of the old shape."
   ]
  },
  {
   "cell_type": "markdown",
   "metadata": {},
   "source": [
    "#### Reshaping within the same number of dimensions"
   ]
  },
  {
   "cell_type": "code",
   "execution_count": 32,
   "metadata": {},
   "outputs": [
    {
     "name": "stdout",
     "output_type": "stream",
     "text": [
      "Original Shape: (3, 4, 5)\n",
      "[[[0.51062891 0.38682715 0.53008894 0.94470748 0.89286225]\n",
      "  [0.6771144  0.63902738 0.54836134 0.27268312 0.14826864]\n",
      "  [0.85630298 0.6350568  0.29964349 0.46021971 0.0245274 ]\n",
      "  [0.5580651  0.36115152 0.50270954 0.15362754 0.42550764]]\n",
      "\n",
      " [[0.90617184 0.00851159 0.9688641  0.69089373 0.09941639]\n",
      "  [0.28977588 0.53907355 0.72414785 0.38886743 0.22708397]\n",
      "  [0.45485988 0.97208251 0.83381823 0.91479066 0.66728484]\n",
      "  [0.44066609 0.68509199 0.64859831 0.02910001 0.91953144]]\n",
      "\n",
      " [[0.542457   0.99114165 0.38310289 0.80666933 0.46100683]\n",
      "  [0.82682421 0.53911823 0.88726484 0.88010686 0.32830331]\n",
      "  [0.40442494 0.54464736 0.6216929  0.37935608 0.54212945]\n",
      "  [0.12091936 0.68069724 0.28711926 0.04297641 0.11609834]]]\n"
     ]
    }
   ],
   "source": [
    "s = np.random.rand(3,4,5)\n",
    "print(f\"Original Shape: {s.shape}\")\n",
    "\n",
    "s.size\n",
    "\n",
    "print(s)"
   ]
  },
  {
   "cell_type": "code",
   "execution_count": 33,
   "metadata": {},
   "outputs": [
    {
     "name": "stdout",
     "output_type": "stream",
     "text": [
      "Original Shape: (3, 4, 5)\n",
      "[[[0.10642941 0.31648792 0.24653479 0.56278312 0.90635423]\n",
      "  [0.58010691 0.59793673 0.23804352 0.58088727 0.14587015]\n",
      "  [0.33563098 0.62552797 0.36130568 0.91099399 0.87849262]\n",
      "  [0.43415558 0.5176121  0.47466799 0.1843626  0.43476064]]\n",
      "\n",
      " [[0.18755194 0.71520783 0.52300639 0.32056533 0.00309954]\n",
      "  [0.59730294 0.64907833 0.00518963 0.9702218  0.66386607]\n",
      "  [0.2931444  0.20036432 0.92570215 0.30925129 0.40321803]\n",
      "  [0.63306201 0.89065281 0.43260636 0.92821871 0.59208066]]\n",
      "\n",
      " [[0.43178493 0.59278027 0.35450605 0.65701977 0.65230895]\n",
      "  [0.82171856 0.40276676 0.03756505 0.98463162 0.44814283]\n",
      "  [0.93763523 0.67204106 0.26669688 0.56406436 0.95693298]\n",
      "  [0.11348592 0.27222936 0.08205775 0.76527058 0.02168872]]]\n"
     ]
    }
   ],
   "source": [
    "s = np.random.rand(3, 4, 5)\n",
    "print(f\"Original Shape: {s.shape}\")\n",
    "\n",
    "s.size\n",
    "\n",
    "print(s)"
   ]
  },
  {
   "cell_type": "code",
   "execution_count": 34,
   "metadata": {},
   "outputs": [
    {
     "name": "stdout",
     "output_type": "stream",
     "text": [
      "Reshaped from s: (2, 6, 5)\n",
      "[[[0.10642941 0.31648792 0.24653479 0.56278312 0.90635423]\n",
      "  [0.58010691 0.59793673 0.23804352 0.58088727 0.14587015]\n",
      "  [0.33563098 0.62552797 0.36130568 0.91099399 0.87849262]\n",
      "  [0.43415558 0.5176121  0.47466799 0.1843626  0.43476064]\n",
      "  [0.18755194 0.71520783 0.52300639 0.32056533 0.00309954]\n",
      "  [0.59730294 0.64907833 0.00518963 0.9702218  0.66386607]]\n",
      "\n",
      " [[0.2931444  0.20036432 0.92570215 0.30925129 0.40321803]\n",
      "  [0.63306201 0.89065281 0.43260636 0.92821871 0.59208066]\n",
      "  [0.43178493 0.59278027 0.35450605 0.65701977 0.65230895]\n",
      "  [0.82171856 0.40276676 0.03756505 0.98463162 0.44814283]\n",
      "  [0.93763523 0.67204106 0.26669688 0.56406436 0.95693298]\n",
      "  [0.11348592 0.27222936 0.08205775 0.76527058 0.02168872]]]\n"
     ]
    }
   ],
   "source": [
    "s1 = s.reshape(2, 6, 5)\n",
    "print(f\"Reshaped from s: {s1.shape}\")\n",
    "\n",
    "print(s1)"
   ]
  },
  {
   "cell_type": "markdown",
   "metadata": {},
   "source": [
    "#### Reshaping to a different number of dimensions"
   ]
  },
  {
   "cell_type": "code",
   "execution_count": 37,
   "metadata": {},
   "outputs": [
    {
     "name": "stdout",
     "output_type": "stream",
     "text": [
      "Original shape: (120,)\n",
      "[  0   1   2   3   4   5   6   7   8   9  10  11  12  13  14  15  16  17\n",
      "  18  19  20  21  22  23  24  25  26  27  28  29  30  31  32  33  34  35\n",
      "  36  37  38  39  40  41  42  43  44  45  46  47  48  49  50  51  52  53\n",
      "  54  55  56  57  58  59  60  61  62  63  64  65  66  67  68  69  70  71\n",
      "  72  73  74  75  76  77  78  79  80  81  82  83  84  85  86  87  88  89\n",
      "  90  91  92  93  94  95  96  97  98  99 100 101 102 103 104 105 106 107\n",
      " 108 109 110 111 112 113 114 115 116 117 118 119]\n"
     ]
    }
   ],
   "source": [
    "r = np.arange(120)\n",
    "\n",
    "print(f\"Original shape: {r.shape}\")\n",
    "\n",
    "print(r)"
   ]
  },
  {
   "cell_type": "code",
   "execution_count": 39,
   "metadata": {},
   "outputs": [
    {
     "name": "stdout",
     "output_type": "stream",
     "text": [
      "[[[  0   1   2   3   4   5   6   7   8   9]\n",
      "  [ 10  11  12  13  14  15  16  17  18  19]\n",
      "  [ 20  21  22  23  24  25  26  27  28  29]\n",
      "  [ 30  31  32  33  34  35  36  37  38  39]]\n",
      "\n",
      " [[ 40  41  42  43  44  45  46  47  48  49]\n",
      "  [ 50  51  52  53  54  55  56  57  58  59]\n",
      "  [ 60  61  62  63  64  65  66  67  68  69]\n",
      "  [ 70  71  72  73  74  75  76  77  78  79]]\n",
      "\n",
      " [[ 80  81  82  83  84  85  86  87  88  89]\n",
      "  [ 90  91  92  93  94  95  96  97  98  99]\n",
      "  [100 101 102 103 104 105 106 107 108 109]\n",
      "  [110 111 112 113 114 115 116 117 118 119]]]\n"
     ]
    }
   ],
   "source": [
    "print(r.reshape(3,4,10))"
   ]
  },
  {
   "cell_type": "code",
   "execution_count": 40,
   "metadata": {},
   "outputs": [
    {
     "name": "stdout",
     "output_type": "stream",
     "text": [
      "Reshaped from r: (3, 4, 10)\n",
      "[[[  0   1   2   3   4   5   6   7   8   9]\n",
      "  [ 10  11  12  13  14  15  16  17  18  19]\n",
      "  [ 20  21  22  23  24  25  26  27  28  29]\n",
      "  [ 30  31  32  33  34  35  36  37  38  39]]\n",
      "\n",
      " [[ 40  41  42  43  44  45  46  47  48  49]\n",
      "  [ 50  51  52  53  54  55  56  57  58  59]\n",
      "  [ 60  61  62  63  64  65  66  67  68  69]\n",
      "  [ 70  71  72  73  74  75  76  77  78  79]]\n",
      "\n",
      " [[ 80  81  82  83  84  85  86  87  88  89]\n",
      "  [ 90  91  92  93  94  95  96  97  98  99]\n",
      "  [100 101 102 103 104 105 106 107 108 109]\n",
      "  [110 111 112 113 114 115 116 117 118 119]]]\n"
     ]
    }
   ],
   "source": [
    "# (120,) -> (3, 4, 10)\n",
    "r1 = r.reshape(3, 4, 10) # this can also be written as r.reshape((3, 4, 10))\n",
    "print(f\"Reshaped from r: {r1.shape}\")\n",
    "\n",
    "print(r1)"
   ]
  },
  {
   "cell_type": "code",
   "execution_count": 41,
   "metadata": {},
   "outputs": [
    {
     "name": "stdout",
     "output_type": "stream",
     "text": [
      "Reshaped from r1: (6, 20)\n",
      "[[  0   1   2   3   4   5   6   7   8   9  10  11  12  13  14  15  16  17\n",
      "   18  19]\n",
      " [ 20  21  22  23  24  25  26  27  28  29  30  31  32  33  34  35  36  37\n",
      "   38  39]\n",
      " [ 40  41  42  43  44  45  46  47  48  49  50  51  52  53  54  55  56  57\n",
      "   58  59]\n",
      " [ 60  61  62  63  64  65  66  67  68  69  70  71  72  73  74  75  76  77\n",
      "   78  79]\n",
      " [ 80  81  82  83  84  85  86  87  88  89  90  91  92  93  94  95  96  97\n",
      "   98  99]\n",
      " [100 101 102 103 104 105 106 107 108 109 110 111 112 113 114 115 116 117\n",
      "  118 119]]\n"
     ]
    }
   ],
   "source": [
    "# (3, 4, 10) -> (6, 20)\n",
    "r2 = r1.reshape(6, 20)\n",
    "print(f\"Reshaped from r1: {r2.shape}\")\n",
    "\n",
    "print(r2)"
   ]
  },
  {
   "cell_type": "markdown",
   "metadata": {},
   "source": [
    "### b. Transposing Arrays\n",
    "The transpose operation reverses the order of an array. It switches the rows to columns and vice versa. In a multi-dimensional array, the transpose operation moves the data from one axis to another in the order specified in the transpose method."
   ]
  },
  {
   "cell_type": "code",
   "execution_count": null,
   "metadata": {},
   "outputs": [],
   "source": [
    "x=np.arange(50).reshape((5,10))\n",
    "print(\"Shape of the original array\", x.shape)\n",
    "print(\"Original array\\n\", x)\n",
    "\n",
    "x1=np.transpose(x)\n",
    "print(\"Shape of the transposed array\", x1.shape)\n",
    "print(\"Transposed array\\n\", x1)\n",
    "\n",
    "x.T"
   ]
  },
  {
   "cell_type": "code",
   "execution_count": 42,
   "metadata": {},
   "outputs": [
    {
     "name": "stdout",
     "output_type": "stream",
     "text": [
      "Shape of the original array (5, 10)\n",
      "Original array\n",
      " [[ 0  1  2  3  4  5  6  7  8  9]\n",
      " [10 11 12 13 14 15 16 17 18 19]\n",
      " [20 21 22 23 24 25 26 27 28 29]\n",
      " [30 31 32 33 34 35 36 37 38 39]\n",
      " [40 41 42 43 44 45 46 47 48 49]]\n",
      "Shape of the transposed array (10, 5)\n",
      "Transposed array\n",
      " [[ 0 10 20 30 40]\n",
      " [ 1 11 21 31 41]\n",
      " [ 2 12 22 32 42]\n",
      " [ 3 13 23 33 43]\n",
      " [ 4 14 24 34 44]\n",
      " [ 5 15 25 35 45]\n",
      " [ 6 16 26 36 46]\n",
      " [ 7 17 27 37 47]\n",
      " [ 8 18 28 38 48]\n",
      " [ 9 19 29 39 49]]\n"
     ]
    }
   ],
   "source": [
    "x = np.arange(50).reshape((5,10))\n",
    "print(\"Shape of the original array\", x.shape)\n",
    "print(\"Original array\\n\", x)\n",
    "\n",
    "x1 = np.transpose(x)\n",
    "print(\"Shape of the transposed array\", x1.shape)\n",
    "print(\"Transposed array\\n\",x1)"
   ]
  },
  {
   "cell_type": "code",
   "execution_count": 44,
   "metadata": {},
   "outputs": [
    {
     "name": "stdout",
     "output_type": "stream",
     "text": [
      "Shape of the Original array (3, 4, 5)\n"
     ]
    }
   ],
   "source": [
    "w = np.arange(60).reshape((3, 4, 5))\n",
    "w\n",
    "\n",
    "print(\"Shape of the Original array\", w.shape)\n",
    "#print(\"Original array\\n\", w)\n",
    "\n"
   ]
  },
  {
   "cell_type": "markdown",
   "metadata": {},
   "source": [
    "#### Transpose without specifying axes"
   ]
  },
  {
   "cell_type": "code",
   "execution_count": null,
   "metadata": {},
   "outputs": [],
   "source": [
    "# Original Shape: 3,4,5\n",
    "\n",
    "w1 = np.transpose(w)  # 0->2, 1->1, 2->0   (0,1,2)->(2,1,0)\n",
    "print(\"Shape of the transposed array\", w1.shape)\n",
    "print(\"Transposed array\\n\", w1)"
   ]
  },
  {
   "cell_type": "markdown",
   "metadata": {},
   "source": [
    "#### Transpose along specified axes"
   ]
  },
  {
   "cell_type": "code",
   "execution_count": null,
   "metadata": {},
   "outputs": [],
   "source": [
    "w\n",
    "\n",
    "# Original Shape: 3,4,5\n",
    "\n",
    "w2 = np.transpose(w, axes=(0, 2, 1)) # 0, 1, 2\n",
    "print(\"Shape of the transposed array\", w2.shape)\n",
    "print(\"Transposed array\\n\", w2)\n",
    "\n",
    "# Original Shape: 3,4,5\n",
    "\n",
    "w3 = np.transpose(w, axes=(1, 2, 0))\n",
    "print(\"Shape of the transposed array\", w3.shape)\n",
    "print(\"Transposed array\\n\", w3)"
   ]
  },
  {
   "cell_type": "markdown",
   "metadata": {},
   "source": [
    "### c. Flattening Arrays\n",
    "The flatten operation in Numpy collapses arrays of multiple dimensions into one dimension.\n",
    "\n",
    "\n",
    "Different orders can be specified when flattening Numpy Arrays. See examples below."
   ]
  },
  {
   "cell_type": "code",
   "execution_count": null,
   "metadata": {},
   "outputs": [],
   "source": [
    "k = np.random.rand(5, 6)\n",
    "\n",
    "k"
   ]
  },
  {
   "cell_type": "markdown",
   "metadata": {},
   "source": [
    "#### Flattening Arrays along the row (default order)"
   ]
  },
  {
   "cell_type": "code",
   "execution_count": null,
   "metadata": {},
   "outputs": [],
   "source": [
    "k1 = k.flatten() # all rows are stacked on each other into a 1D array.\n",
    "k1\n",
    "\n",
    "k1.shape"
   ]
  },
  {
   "cell_type": "markdown",
   "metadata": {},
   "source": [
    "#### Flattening Arrays along the column"
   ]
  },
  {
   "cell_type": "code",
   "execution_count": null,
   "metadata": {},
   "outputs": [],
   "source": [
    "k2= k.flatten('F') # forms a 1D array where elements in a column are listed before moving to the next column.\n",
    "k2\n",
    "\n",
    "k2.shape"
   ]
  },
  {
   "cell_type": "markdown",
   "metadata": {},
   "source": [
    "#### Flattening Arrays using Numpy Reshape\n"
   ]
  },
  {
   "cell_type": "code",
   "execution_count": null,
   "metadata": {},
   "outputs": [],
   "source": [
    "k4= k.reshape(-1)\n",
    "k4\n",
    "\n",
    "k4.shape"
   ]
  },
  {
   "cell_type": "markdown",
   "metadata": {},
   "source": [
    "### d. Squeezing & Expanding Arrays"
   ]
  },
  {
   "cell_type": "markdown",
   "metadata": {},
   "source": [
    "#### Squeezing Numpy Arrays\n",
    "\n",
    "The squeeze operation allows reduction of numpy arrays axes by dropping a specified axis, so long as it is of **unit length**. The product of the shape (overall size of the array) remains the same."
   ]
  },
  {
   "cell_type": "code",
   "execution_count": null,
   "metadata": {},
   "outputs": [],
   "source": [
    "sq = np.random.rand(4, 1, 5)\n",
    "print(f\"Original Array: \\n{sq}\\n\")\n",
    "print(f\"Shape of Original Array: {sq.shape}\")\n",
    "\n",
    "# transforms from (4, 1, 5) -> (4, 5)\n",
    "sq1 = np.squeeze(sq)\n",
    "print(f\"Squeezed Array: \\n {sq1}\\n\")\n",
    "print(f\"Shape of Squeezed Array: {sq1.shape}\")"
   ]
  },
  {
   "cell_type": "code",
   "execution_count": null,
   "metadata": {},
   "outputs": [],
   "source": [
    "# Squeezing specified axes\n",
    "\n",
    "q2 = np.squeeze(sq, axis=1)\n",
    "print(f\"Specified axis Squeezed Array: \\n {q2}\\n\")\n",
    "print(f\"Shape of Specified axis Squeezed Array: {q2.shape}\")"
   ]
  },
  {
   "cell_type": "markdown",
   "metadata": {},
   "source": [
    "#### Unsqueezing (Expanding) Numpy Arrays\n",
    "This is the direct opposite of squeezing. A new unit axis is inserted in specified position. Multiple unit axes can be inserted by using a tuple on the axis attribute of the `expand_dims` method."
   ]
  },
  {
   "cell_type": "code",
   "execution_count": null,
   "metadata": {},
   "outputs": [],
   "source": [
    "y = np.random.rand(4, 5)\n",
    "print(f\"Original Array: \\n {y}\\n\")\n",
    "print(f\"Shape of Original Array: {y.shape}\")\n",
    "\n",
    "# transforms from (4, 5) -> (4, 1, 5)\n",
    "y1 = np.expand_dims(y, axis=1)\n",
    "print(f\"Expanded Array: \\n {y1}\\n\")\n",
    "print(f\"Shape of Expanded Array: {y1.shape}\")\n",
    "\n",
    "# transforms from (4, 5) -> (1, 4, 1, 5)\n",
    "y2 = np.expand_dims(y, axis=(0, 2))\n",
    "print(f\"Multi-axes Expanded Array: \\n {y2}\\n\")\n",
    "print(f\"Shape of Multi-axes Expanded Array: {y2.shape}\")"
   ]
  },
  {
   "cell_type": "markdown",
   "metadata": {},
   "source": [
    "## 7. Combining data"
   ]
  },
  {
   "cell_type": "markdown",
   "metadata": {},
   "source": [
    "### a. Concatenation\n",
    "\n",
    "A concatenation operation joins a sequence of arrays along an *existing* axis. All arrays must either have the same shape (except in the concatenating dimension) or be empty."
   ]
  },
  {
   "cell_type": "code",
   "execution_count": null,
   "metadata": {},
   "outputs": [],
   "source": [
    "# Concatenating Numpy Arrays\n",
    "\n",
    "array1 = np.random.randint(3, size = (3, 2, 2))\n",
    "print(\"Array 1 is \\n\", array1, \" with dimensions \", array1.shape, \"\\n\")\n",
    "\n",
    "array2 = np.random.randint(4, size = (3, 2, 2))\n",
    "print(\"Array 2 is \\n\", array2, \" with dimensions \", array2.shape, \"\\n\")\n",
    "\n",
    "concatenated_array1 = np.concatenate((array1, array2), axis = 0) \n",
    "print(\"Concatenated array 1 is \\n\", concatenated_array1, \"\\n\\n\", \"and the dimensions of the concatenated array 1 are: \\n\", concatenated_array1.shape)\n",
    "\n",
    "concatenated_array2 = np.concatenate((array1, array2), axis = 1) \n",
    "print(\"Concatenated array 2 is \\n\", concatenated_array2, \"\\n\\n\", \"and the dimensions of the concatenated array 2 are: \\n\", concatenated_array2.shape)\n",
    "\n",
    "concatenated_array3 = np.concatenate((array1, array2), axis = 2) \n",
    "print(\"Concatenated array 3 is \\n\", concatenated_array3, \"\\n\\n\", \"and the dimensions of the concatenated array 3 are: \\n\", concatenated_array3.shape)\n"
   ]
  },
  {
   "cell_type": "markdown",
   "metadata": {},
   "source": [
    "### b. Stacking\n",
    "\n",
    "The stack operation joins a sequence of arrays along a *new* axis. The axis parameter specifies the index of the new axis in the dimensions of the result. For example, if axis = 0 it will be the first dimension and if axis = -1 it will be the last dimension. All arrays need to be of the same size.  The stacked array has one more dimension than the input arrays."
   ]
  },
  {
   "cell_type": "code",
   "execution_count": null,
   "metadata": {},
   "outputs": [],
   "source": [
    "# Stacking 1-d Arrays\n",
    "\n",
    "array1 = np.array([1, 2, 3])\n",
    "print(\"Array 1 is \\n\", array1, \" with dimensions \", array1.shape, \"\\n\")\n",
    "\n",
    "array2 = np.array([4, 5, 6])\n",
    "print(\"Array 2 is \\n\", array2, \" with dimensions \", array2.shape, \"\\n\")\n",
    "\n",
    "\n",
    "stacked_array1 = np.stack((array1, array2), axis = 0)\n",
    "print(\"Stacked array 1 is \\n\", stacked_array1, \" with dimensions \", stacked_array1.shape)\n",
    "\n",
    "stacked_array2 = np.stack((array1, array2), axis = 1) \n",
    "print(\"Stacked array 2 is \\n\", stacked_array2, \" with dimensions \", stacked_array2.shape)\n",
    "\n",
    "stacked_array3 = np.stack((array1, array2), axis = -1) \n",
    "print(\"Stacked array 3 is \\n\", stacked_array3, \" with dimensions \", stacked_array3.shape)"
   ]
  },
  {
   "cell_type": "code",
   "execution_count": null,
   "metadata": {},
   "outputs": [],
   "source": [
    "\n",
    "# Stacking Numpy Arrays\n",
    "\n",
    "array1 = np.random.randint(3, size = (3, 4, 5))\n",
    "print(\"Array 1 has dimensions \", array1.shape, \"\\n\")\n",
    "\n",
    "array2 = np.random.randint(4, size = (3, 4, 5))\n",
    "print(\"Array 2 has dimensions \", array2.shape, \"\\n\")\n",
    "\n",
    "stacked_array1 = np.stack((array1, array2), axis = 0)\n",
    "print(\"Stacked array 1 has dimensions\", stacked_array1.shape, \"\\n\")\n",
    "\n",
    "stacked_array2 = np.stack((array1, array2), axis = 1) \n",
    "print(\"Stacked array 2 has dimensions\", stacked_array2.shape, \"\\n\")\n",
    "\n",
    "stacked_array3 = np.stack((array1, array2), axis = 2) \n",
    "print(\"Stacked array 3 has dimensions\", stacked_array3.shape, \"\\n\")\n",
    "\n",
    "stacked_array4 = np.stack((array1, array2), axis = -1)\n",
    "print(\"Stacked array 4 has dimensions\", stacked_array4.shape, \"\\n\")"
   ]
  },
  {
   "cell_type": "markdown",
   "metadata": {},
   "source": [
    "### c. Repeat\n",
    "\n",
    "The repeat operation repeats elements of an array. The number of repetitions for each element is broadcasted to fit the shape of the given axis. The axis parameter specifies along which axis to repeat values. By default, it uses the flattened input array, and returns a flat output array."
   ]
  },
  {
   "cell_type": "code",
   "execution_count": null,
   "metadata": {},
   "outputs": [],
   "source": [
    "\n",
    "# Repeat in Numpy Arrays\n",
    "\n",
    "original_array = np.array([[1,2],[3,4]])\n",
    "print(\"Array is \\n\", original_array, \" with dimensions \", original_array.shape, \"\\n\")\n",
    "\n",
    "repeated_array1 = np.repeat(original_array, 2)\n",
    "print(\"Repeated array 1 is \\n\", repeated_array1, \"\\n\\n\", \"and the dimensions of the repeated array 1 are: \\n\", repeated_array1.shape, \"\\n\")\n",
    "\n",
    "repeated_array2 = np.repeat(original_array, 3, axis=0)\n",
    "print(\"Repeated array 2 is \\n\", repeated_array2, \"\\n\\n\", \"and the dimensions of the repeated array 2 are: \\n\", repeated_array2.shape, \"\\n\")\n",
    "\n",
    "repeated_array3 = np.repeat(original_array, 3, axis=1)\n",
    "print(\"Repeated array 3 is \\n\", repeated_array3, \"\\n\\n\", \"and the dimensions of the repeated array 3 are: \\n\", repeated_array3.shape, \"\\n\")\n",
    "\n",
    "repeated_array4 = np.repeat(original_array, [2,3], axis=0)\n",
    "print(\"Repeated array 4 is \\n\", repeated_array4, \"\\n\\n\", \"and the dimensions of the repeated array 4 are: \\n\", repeated_array4.shape, \"\\n\")\n"
   ]
  },
  {
   "cell_type": "markdown",
   "metadata": {},
   "source": [
    "## 8. Math operations"
   ]
  },
  {
   "cell_type": "markdown",
   "metadata": {},
   "source": [
    "In this section we will cover some commonly used mathematical operations\n",
    "1. Broadcasting\n",
    "1. Point-wise/element-wise operations\n",
    "1. Reduction operations\n",
    "1. Comparison operations\n",
    "1. Vector/Matrix operations\n",
    "1. Tensordot"
   ]
  },
  {
   "cell_type": "markdown",
   "metadata": {},
   "source": [
    "### a. Broadcasting"
   ]
  },
  {
   "cell_type": "code",
   "execution_count": null,
   "metadata": {},
   "outputs": [],
   "source": [
    "# Broadcasting b/w arrays of different dimensions\n",
    "# Note: When broadting two multi-dimensional tensors, match their corresponding dimensions beginning from the last dimension.\n",
    "# All dimensions should either match or one of the arrays should have length 1 in that specific dimension\n",
    "\n",
    "row_arr = np.random.rand(1,3)\n",
    "print(\"A row array: \\n\", row_arr, \" with dimensions \", row_arr.shape, \"\\n\")\n",
    "col_arr = np.random.rand(4,1)\n",
    "print(\"A column array: \\n\", col_arr, \" with dimensions \", col_arr.shape, \"\\n\")\n",
    "\n",
    "add_arr = row_arr + col_arr\n",
    "print(\"row array + column array = \")\n",
    "print(add_arr,\" with dimensions \", add_arr.shape, \"\\n\")\n",
    "mul_arr = row_arr * col_arr\n",
    "print(\"row array * column array = \")\n",
    "print(mul_arr,\" with dimensions \", mul_arr.shape, \"\\n\")"
   ]
  },
  {
   "cell_type": "markdown",
   "metadata": {},
   "source": [
    "### b. Element-wise operations"
   ]
  },
  {
   "cell_type": "code",
   "execution_count": null,
   "metadata": {},
   "outputs": [],
   "source": [
    "rand_arr_1 = np.random.rand(2,3)\n",
    "print(\"A random array1 : \\n\", rand_arr_1, \" with dimensions \", rand_arr_1.shape, \"\\n\")\n",
    "rand_arr_2 = np.random.rand(2,3)\n",
    "print(\"A random array2 : \\n\", rand_arr_2, \" with dimensions \", rand_arr_2.shape, \"\\n\")\n",
    "scalar = 5.0\n",
    "\n",
    "# Addition with Scalars\n",
    "new_arr_1 = rand_arr_1 + scalar\n",
    "print(\"random array1 + 5.0 =\")\n",
    "print(new_arr_1, \"\\n\")\n",
    "\n",
    "# Multiplication with Scalars\n",
    "new_arr_2 = rand_arr_1 * scalar\n",
    "print(\"random array1 * 5.0 =\")\n",
    "print(new_arr_2, \"\\n\")\n",
    "\n",
    "# Elementwise Addition of Arrays\n",
    "new_arr_3 = rand_arr_1 + rand_arr_2\n",
    "print(\"random array1 + random array2 =\")\n",
    "print(new_arr_3, \"\\n\")\n",
    "\n",
    "# Elementwise Multiplication of Arrays aka Hadmard Product\n",
    "new_arr_4 = rand_arr_1 * rand_arr_2\n",
    "print(\"random array1 * random array2 =\")\n",
    "print(new_arr_4, \"\\n\") # also equivalent to np.multiply(array1, array2)\n",
    "\n",
    "# Absolute value\n",
    "new_arr_5 = np.abs(-10*rand_arr_1)\n",
    "print(\"abs (-10 * random array1) =\")\n",
    "print(new_arr_5, \"\\n\")\n",
    "\n",
    "# Square root value\n",
    "new_arr_6 = np.sqrt(rand_arr_1)\n",
    "print('sqrt(random array1) = \\n', new_arr_6, \"\\n\")"
   ]
  },
  {
   "cell_type": "markdown",
   "metadata": {},
   "source": [
    "### c. Reduction"
   ]
  },
  {
   "cell_type": "code",
   "execution_count": null,
   "metadata": {},
   "outputs": [],
   "source": [
    "rand_arr = np.random.rand(2,3)\n",
    "print('random array: \\n', rand_arr, \"\\n\")\n",
    "\n",
    "max_val = np.max(rand_arr)\n",
    "print('Maximum value of array \\n', max_val, \"\\n\")\n",
    "min_val = np.min(rand_arr)\n",
    "print('Minimum value of array \\n', min_val, \"\\n\")\n",
    "\n",
    "sum_val = np.sum(rand_arr)\n",
    "print('Sum of array \\n', sum_val, \"\\n\")\n",
    "max_idx = np.argmax(rand_arr, axis=0)\n",
    "print('Maximum value\\'s index of array along axis 0 \\n', max_idx, \"\\n\")\n",
    "min_idx = np.argmin(rand_arr, axis=1)\n",
    "print('Minimum value\\'s index of array along axis 1 \\n', min_idx, \"\\n\")\n",
    "\n",
    "mean_val = np.mean(rand_arr)\n",
    "print('Mean value of array \\n', mean_val, \"\\n\")\n",
    "std_val = np.std(rand_arr)\n",
    "print('Standard deviation value of array \\n', std_val, \"\\n\")\n",
    "norm_val = np.linalg.norm(rand_arr)\n",
    "print('Norm value of array \\n', norm_val, \"\\n\")"
   ]
  },
  {
   "cell_type": "markdown",
   "metadata": {},
   "source": [
    "### d. Comparision"
   ]
  },
  {
   "cell_type": "code",
   "execution_count": null,
   "metadata": {},
   "outputs": [],
   "source": [
    "rand_arr_1 = np.random.rand(2,3)\n",
    "print('random array1: \\n', rand_arr_1, '\\n')\n",
    "rand_arr_2 = np.random.rand(2,3)\n",
    "print('random array2: \\n', rand_arr_2, '\\n')\n",
    "\n",
    "# Element-wise Comparison Operations\n",
    "greater_compare = rand_arr_1 > rand_arr_2\n",
    "print('random array1 > random array2')\n",
    "print(greater_compare, '\\n')\n",
    "\n",
    "less_compare = rand_arr_1 < rand_arr_2\n",
    "print('random array1 < random array2')\n",
    "print(less_compare, '\\n')\n",
    "\n",
    "not_equal_compare = rand_arr_1 != rand_arr_2\n",
    "print('random array1 != random array2')\n",
    "print(not_equal_compare, '\\n')\n",
    "\n",
    "# Combining reduction operations with boolean arrays\n",
    "print(\"any values for random array1 > random array2:\")\n",
    "print((rand_arr_1 > rand_arr_2).any(), \"\\n\")\n",
    "\n",
    "print(\"all values for random array1 > random array2:\")\n",
    "print((rand_arr_1 > rand_arr_2).all(), \"\\n\")\n",
    "\n",
    "print(\"any values along first axis for random array1 > random array2:\")\n",
    "print((rand_arr_1 > rand_arr_2).any(axis=0), \"\\n\")\n",
    "\n",
    "print(\"any values along second axis for random array1 > random array2:\")\n",
    "print((rand_arr_1 > rand_arr_2).any(axis=1), \"\\n\")\n",
    "\n",
    "print(\"any values for random array1 != random array2:\")\n",
    "print((rand_arr_1 != rand_arr_2).any(), \"\\n\")\n",
    "\n",
    "print(\"all values for random array1 != random array2:\")\n",
    "print((rand_arr_1 != rand_arr_2).all(), \"\\n\")"
   ]
  },
  {
   "cell_type": "markdown",
   "metadata": {},
   "source": [
    "### e. Vector/Matrix operations"
   ]
  },
  {
   "cell_type": "code",
   "execution_count": null,
   "metadata": {},
   "outputs": [],
   "source": [
    "# Vector x Vector\n",
    "array1 = np.random.randn(3)\n",
    "array2 = np.random.randn(3)\n",
    "\n",
    "print('Array1 \\n', array1, 'with dimension ', array1.shape, '\\n')\n",
    "print('Array2 \\n', array2, 'with dimension ', array2.shape, '\\n')\n",
    "\n",
    "matmul_arr = np.matmul(array1, array2)\n",
    "another_arr = array1@array2\n",
    "print('Matmul of the two arrays can be derived by using np.matmul(array1, array2) \\n', matmul_arr)\n",
    "print(\"Matmul of the two arrays can also be derived by using array1@array2 \\n\", another_arr)\n",
    "print('Dimensions of resulting product: \\n', matmul_arr.shape)\n",
    "\n",
    "# Matrix x Vector\n",
    "array3 = np.random.randn(3, 4)\n",
    "array4 = np.random.randn(4)\n",
    "\n",
    "print('Array3 \\n', array3, 'with dimension ', array3.shape, '\\n')\n",
    "print('Array4 \\n', array4, 'with dimension ', array4.shape, '\\n')\n",
    "\n",
    "matmul_arr = np.matmul(array3, array4)\n",
    "another_arr = array3@array4\n",
    "print('Matmul of a vector and a matrix can be derived by using np.matmul(array3, array4) \\n', matmul_arr)\n",
    "print('Matmul of a vector and a matrix can also be derived by using array3@array4 \\n', another_arr)\n",
    "print('Dimensions of resulting product: \\n', matmul_arr.shape)\n",
    "\n",
    "# Matrix x Matrix \n",
    "\n",
    "matrix1 = np.random.randint(4, size = (2, 3))\n",
    "matrix2 = np.random.randint(4, size = (3, 2))\n",
    "\n",
    "print('Matrix1 \\n', matrix1, 'with dimension ', matrix1.shape, '\\n')\n",
    "print('Matrix2 \\n', matrix2, 'with dimension ', matrix2.shape, '\\n')\n",
    "\n",
    "matmul_mat = np.matmul(matrix1, matrix2)\n",
    "print('Matmul of two matrices can be derived by using np.matmul(matrix1, matrix2) \\n', matmul_mat)\n",
    "print('Dimensions of resulting product: \\n', matmul_mat.shape, \"\\n\")"
   ]
  },
  {
   "cell_type": "code",
   "execution_count": null,
   "metadata": {},
   "outputs": [],
   "source": [
    "rand_mat_1 = np.random.rand(4,2)\n",
    "rand_mat_2 = np.random.rand(2,3)\n",
    "print('Matrix1 \\n', rand_mat_1, 'with dimension ', rand_mat_1.shape, '\\n')\n",
    "print('Matrix2 \\n', rand_mat_2, 'with dimension ', rand_mat_2.shape, '\\n')\n",
    "\n",
    "# dot product\n",
    "dot_mat = np.dot(rand_mat_1, rand_mat_2)\n",
    "another_mat = rand_mat_1@rand_mat_2\n",
    "print('Dot product of two matrices can be derived by using np.dot(mat1, mat2) \\n', dot_mat)\n",
    "print('Dot product of two matrices can also be derived by using mat1@mat2 \\n', another_mat)\n",
    "print('Dimensions of resulting product: \\n', dot_mat.shape)\n",
    "\n",
    "a = np.ones([9, 5, 7, 4])\n",
    "b = np.ones([9, 5, 4, 3])\n",
    "print('array1 \\'s dimension ', a.shape, '\\n')\n",
    "print('array2 \\'s dimension ', b.shape, '\\n')\n",
    "\n",
    "# matmul with multi-dimenstion arrays\n",
    "c = np.matmul(a,b)\n",
    "print('Matmul of two multi-dimension arrays can be derived by using np.matmul(array1, array2) \\n')\n",
    "print('Dimensions of resulting product: \\n', c.shape)"
   ]
  },
  {
   "cell_type": "markdown",
   "metadata": {},
   "source": [
    "### f. Tensordot\n",
    "\n",
    "Understanding tensordot function will help you in writing succint code for your homeworks especially in Convolutional Neural Net assignment.\n",
    "\n",
    "To give a brief overview: \n",
    "We input the arrays and the respective axes along which the sum-reductions are intended. The axes that take part in sum-reduction are removed in the output and all of the remaining axes from the input arrays are spread-out as different axes in the output keeping the order in which the input arrays are fed.\n",
    "\n",
    "To understand in depth please checkout: https://stackoverflow.com/questions/41870228/understanding-tensordot"
   ]
  },
  {
   "cell_type": "code",
   "execution_count": null,
   "metadata": {},
   "outputs": [],
   "source": [
    "a = np.arange(60.).reshape(3,4,5)\n",
    "b = np.arange(24.).reshape(4,3,2)\n",
    "print('A \\'s dimension ', a.shape, '\\n')\n",
    "print('B \\'s dimension ', b.shape, '\\n')\n",
    "\n",
    "# compute tensor dot product along specified axes.\n",
    "c = np.tensordot(a,b, axes=([1,0],[0,1]))\n",
    "print(\"A⨂B =\\n\", c, ' with dimension', c.shape, '\\n')\n",
    "\n",
    "# this equals to \n",
    "d = np.zeros((5,2))\n",
    "for i in range(5):\n",
    "  for j in range(2):\n",
    "    for k in range(3):\n",
    "      for n in range(4):\n",
    "        d[i,j] += a[k,n,i] * b[n,k,j]\n",
    "print(\"tensor dot is equal to sum over certain dimensions.\\n\")\n",
    "print(c==d)"
   ]
  }
 ],
 "metadata": {
  "kernelspec": {
   "display_name": "Python 3.8.10 64-bit",
   "language": "python",
   "name": "python3"
  },
  "language_info": {
   "codemirror_mode": {
    "name": "ipython",
    "version": 3
   },
   "file_extension": ".py",
   "mimetype": "text/x-python",
   "name": "python",
   "nbconvert_exporter": "python",
   "pygments_lexer": "ipython3",
   "version": "3.8.10"
  },
  "orig_nbformat": 4,
  "vscode": {
   "interpreter": {
    "hash": "31f2aee4e71d21fbe5cf8b01ff0e069b9275f58929596ceb00d14d90e3e16cd6"
   }
  }
 },
 "nbformat": 4,
 "nbformat_minor": 2
}
